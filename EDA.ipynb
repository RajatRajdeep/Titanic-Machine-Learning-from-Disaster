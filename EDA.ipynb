{
 "metadata": {
  "language_info": {
   "codemirror_mode": {
    "name": "ipython",
    "version": 3
   },
   "file_extension": ".py",
   "mimetype": "text/x-python",
   "name": "python",
   "nbconvert_exporter": "python",
   "pygments_lexer": "ipython3",
   "version": "3.9.0-final"
  },
  "orig_nbformat": 2,
  "kernelspec": {
   "name": "Python 3.9.0 64-bit ('Titanic Machine Learning from Disaster': pipenv)",
   "display_name": "Python 3.9.0 64-bit ('Titanic Machine Learning from Disaster': pipenv)",
   "metadata": {
    "interpreter": {
     "hash": "f6ec90c9fa45a982ebefb492a8f4b1f04164e073b6dce50ff073dc61200764ab"
    }
   }
  }
 },
 "nbformat": 4,
 "nbformat_minor": 2,
 "cells": [
  {
   "cell_type": "code",
   "execution_count": 2,
   "metadata": {},
   "outputs": [
    {
     "output_type": "stream",
     "name": "stdout",
     "text": [
      "Datasets : \nd:\\progs\\AI\\Titanic Machine Learning from Disaster\ntitanic/gender_submission.csv\ntitanic/test.csv\ntitanic/train.csv\n"
     ]
    }
   ],
   "source": [
    "import os\n",
    "print('Datasets : ')\n",
    "print(\"Current jupyter working directory : \", os.getcwd())\n",
    "for dirname, _, filenames in os.walk('titanic/'):\n",
    "    for filename in filenames:\n",
    "        print(os.path.join(dirname, filename))"
   ]
  },
  {
   "cell_type": "code",
   "execution_count": null,
   "metadata": {},
   "outputs": [],
   "source": []
  }
 ]
}